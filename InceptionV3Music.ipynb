{
 "cells": [
  {
   "cell_type": "code",
   "execution_count": 1,
   "id": "1225160f",
   "metadata": {},
   "outputs": [],
   "source": [
    "import matplotlib.pyplot as plt\n",
    "import numpy as np\n",
    "import os\n",
    "import tensorflow as tf\n",
    "from tensorflow import keras\n",
    "from tensorflow.python.keras.layers import Dense, Flatten\n",
    "from tensorflow.keras.models import Sequential\n",
    "from tensorflow.keras.optimizers import Adam"
   ]
  },
  {
   "cell_type": "code",
   "execution_count": 2,
   "id": "38d42a59",
   "metadata": {},
   "outputs": [],
   "source": [
    "from tensorflow.keras.preprocessing import image\n",
    "from keras.preprocessing.image import img_to_array\n",
    "from tensorflow.keras.preprocessing.image import ImageDataGenerator, load_img"
   ]
  },
  {
   "cell_type": "code",
   "execution_count": 3,
   "id": "d3c7e66c",
   "metadata": {},
   "outputs": [
    {
     "name": "stdout",
     "output_type": "stream",
     "text": [
      "Found 231 images belonging to 7 classes.\n"
     ]
    }
   ],
   "source": [
    "tsdata = ImageDataGenerator()\n",
    "testdata = tsdata.flow_from_directory(directory= 'C://Users//Prathyushaa//Desktop//Project//traintest//val', target_size=(224,224))"
   ]
  },
  {
   "cell_type": "code",
   "execution_count": 4,
   "id": "04ed0201",
   "metadata": {},
   "outputs": [
    {
     "name": "stdout",
     "output_type": "stream",
     "text": [
      "Found 528 images belonging to 7 classes.\n"
     ]
    }
   ],
   "source": [
    "trdata = ImageDataGenerator()\n",
    "traindata = trdata.flow_from_directory(directory= 'C://Users//Prathyushaa//Desktop//Project//traintest//train', target_size=(224,224))"
   ]
  },
  {
   "cell_type": "code",
   "execution_count": 5,
   "id": "034e280c",
   "metadata": {},
   "outputs": [],
   "source": [
    "#data_dir = \"C:/Users/Prathyushaa/Desktop/Project/data/data\""
   ]
  },
  {
   "cell_type": "code",
   "execution_count": 6,
   "id": "20c7071d",
   "metadata": {},
   "outputs": [
    {
     "data": {
      "text/plain": [
       "'img_height, img_width = 224,224\\nbatch_size = 8\\ntrain_ds = tf.keras.preprocessing.image_dataset_from_directory(\\n    data_dir,\\n    validation_split=0.2,\\n    subset=\"training\",\\n    seed=11,\\n    label_mode=\\'categorical\\',\\n    image_size=(img_height,img_width),\\n    batch_size=batch_size)'"
      ]
     },
     "execution_count": 6,
     "metadata": {},
     "output_type": "execute_result"
    }
   ],
   "source": [
    "'''img_height, img_width = 224,224\n",
    "batch_size = 8\n",
    "train_ds = tf.keras.preprocessing.image_dataset_from_directory(\n",
    "    data_dir,\n",
    "    validation_split=0.2,\n",
    "    subset=\"training\",\n",
    "    seed=11,\n",
    "    label_mode='categorical',\n",
    "    image_size=(img_height,img_width),\n",
    "    batch_size=batch_size)'''"
   ]
  },
  {
   "cell_type": "code",
   "execution_count": 7,
   "id": "e835cbf2",
   "metadata": {},
   "outputs": [
    {
     "data": {
      "text/plain": [
       "'val_ds = tf.keras.preprocessing.image_dataset_from_directory(\\n    data_dir,\\n    validation_split=0.2,\\n    subset=\"validation\",\\n    seed=11,\\n    label_mode=\"categorical\",\\n    image_size=(img_height,img_width),\\n    batch_size= batch_size)'"
      ]
     },
     "execution_count": 7,
     "metadata": {},
     "output_type": "execute_result"
    }
   ],
   "source": [
    "'''val_ds = tf.keras.preprocessing.image_dataset_from_directory(\n",
    "    data_dir,\n",
    "    validation_split=0.2,\n",
    "    subset=\"validation\",\n",
    "    seed=11,\n",
    "    label_mode=\"categorical\",\n",
    "    image_size=(img_height,img_width),\n",
    "    batch_size= batch_size)'''"
   ]
  },
  {
   "cell_type": "code",
   "execution_count": 8,
   "id": "c79b60fa",
   "metadata": {},
   "outputs": [],
   "source": [
    "#class_names= train_ds.class_names\n",
    "#print(class_names)"
   ]
  },
  {
   "cell_type": "code",
   "execution_count": 13,
   "id": "19c93243",
   "metadata": {},
   "outputs": [],
   "source": [
    "inception_model= Sequential()\n",
    "\n",
    "pretrained_model = tf.keras.applications.InceptionV3(include_top=False,\n",
    "                                                    input_shape=(224,224,3),\n",
    "                                                 pooling='max',classes=7,\n",
    "                                                 weights='imagenet')\n",
    "for layer in pretrained_model.layers:\n",
    "    layer.trainable=False\n",
    "    \n",
    "inception_model.add(pretrained_model)\n",
    "inception_model.add(Flatten())\n",
    "inception_model.add(Dense(1024,activation='relu'))\n",
    "inception_model.add(Dense(256, activation='relu'))\n",
    "inception_model.add(Dense(7,activation='softmax'))"
   ]
  },
  {
   "cell_type": "code",
   "execution_count": 14,
   "id": "c09581ce",
   "metadata": {},
   "outputs": [
    {
     "name": "stdout",
     "output_type": "stream",
     "text": [
      "Model: \"sequential_1\"\n",
      "_________________________________________________________________\n",
      "Layer (type)                 Output Shape              Param #   \n",
      "=================================================================\n",
      "inception_v3 (Functional)    (None, 2048)              21802784  \n",
      "_________________________________________________________________\n",
      "flatten_1 (Flatten)          (None, 2048)              0         \n",
      "_________________________________________________________________\n",
      "dense_3 (Dense)              (None, 1024)              2098176   \n",
      "_________________________________________________________________\n",
      "dense_4 (Dense)              (None, 256)               262400    \n",
      "_________________________________________________________________\n",
      "dense_5 (Dense)              (None, 7)                 1799      \n",
      "=================================================================\n",
      "Total params: 24,165,159\n",
      "Trainable params: 2,362,375\n",
      "Non-trainable params: 21,802,784\n",
      "_________________________________________________________________\n"
     ]
    }
   ],
   "source": [
    "inception_model.summary()"
   ]
  },
  {
   "cell_type": "code",
   "execution_count": 15,
   "id": "782022d7",
   "metadata": {},
   "outputs": [],
   "source": [
    "inception_model.compile(optimizer='adam', loss='categorical_crossentropy', metrics=['accuracy'])"
   ]
  },
  {
   "cell_type": "code",
   "execution_count": 21,
   "id": "8b17dfcb",
   "metadata": {},
   "outputs": [
    {
     "name": "stdout",
     "output_type": "stream",
     "text": [
      "Epoch 1/10\n",
      "17/17 [==============================] - 37s 2s/step - loss: 0.7791 - accuracy: 0.8106 - val_loss: 2.6183 - val_accuracy: 0.6320\n",
      "Epoch 2/10\n",
      "17/17 [==============================] - 40s 2s/step - loss: 1.1765 - accuracy: 0.7443 - val_loss: 2.0199 - val_accuracy: 0.6797\n",
      "Epoch 3/10\n",
      "17/17 [==============================] - 41s 2s/step - loss: 2.0676 - accuracy: 0.6610 - val_loss: 6.2072 - val_accuracy: 0.4589\n",
      "Epoch 4/10\n",
      "17/17 [==============================] - 44s 3s/step - loss: 1.5144 - accuracy: 0.7576 - val_loss: 2.1843 - val_accuracy: 0.6450\n",
      "Epoch 5/10\n",
      "17/17 [==============================] - 43s 3s/step - loss: 0.7131 - accuracy: 0.8239 - val_loss: 1.6968 - val_accuracy: 0.7446\n",
      "Epoch 6/10\n",
      "17/17 [==============================] - 45s 3s/step - loss: 0.2757 - accuracy: 0.9167 - val_loss: 1.6604 - val_accuracy: 0.7359\n",
      "Epoch 7/10\n",
      "17/17 [==============================] - 46s 3s/step - loss: 0.2705 - accuracy: 0.9261 - val_loss: 1.2726 - val_accuracy: 0.7619\n",
      "Epoch 8/10\n",
      "17/17 [==============================] - 45s 3s/step - loss: 0.0838 - accuracy: 0.9678 - val_loss: 1.4302 - val_accuracy: 0.7792\n",
      "Epoch 9/10\n",
      "17/17 [==============================] - 48s 3s/step - loss: 0.1037 - accuracy: 0.9640 - val_loss: 1.0959 - val_accuracy: 0.7576\n",
      "Epoch 10/10\n",
      "17/17 [==============================] - 47s 3s/step - loss: 0.0491 - accuracy: 0.9848 - val_loss: 1.3334 - val_accuracy: 0.7619\n"
     ]
    }
   ],
   "source": [
    "epochs=10\n",
    "history = inception_model.fit(\n",
    "    traindata,\n",
    "    validation_data = testdata,\n",
    "    epochs=epochs)"
   ]
  },
  {
   "cell_type": "code",
   "execution_count": 22,
   "id": "f7a55821",
   "metadata": {},
   "outputs": [
    {
     "data": {
      "image/png": "[encoded data removed]",
      "text/plain": [
       "<Figure size 432x288 with 1 Axes>"
      ]
     },
     "metadata": {
      "needs_background": "light"
     },
     "output_type": "display_data"
    }
   ],
   "source": [
    "plt.plot(history.history['accuracy'])\n",
    "plt.plot(history.history['val_accuracy'])\n",
    "plt.title(\"Model Accuracy\")\n",
    "plt.xlabel('Epochs')\n",
    "plt.ylabel('Accuracy')\n",
    "plt.legend([\"Training\",\"Validation\"])\n",
    "plt.show()"
   ]
  },
  {
   "cell_type": "code",
   "execution_count": 18,
   "id": "a6bcc847",
   "metadata": {},
   "outputs": [
    {
     "data": {
      "text/plain": [
       "<matplotlib.legend.Legend at 0x28980391700>"
      ]
     },
     "execution_count": 18,
     "metadata": {},
     "output_type": "execute_result"
    },
    {
     "data": {
      "image/png": "[encoded data removed]",
      "text/plain": [
       "<Figure size 432x288 with 1 Axes>"
      ]
     },
     "metadata": {
      "needs_background": "light"
     },
     "output_type": "display_data"
    }
   ],
   "source": [
    "plt.plot(history.history['loss'])\n",
    "plt.plot(history.history['val_loss'])\n",
    "plt.title(\"Model Loss\")\n",
    "plt.xlabel('Epochs')\n",
    "plt.ylabel('Accuracy')\n",
    "plt.legend([\"Training\", \"Validation\"])"
   ]
  },
  {
   "cell_type": "code",
   "execution_count": 65,
   "id": "0bbfd029",
   "metadata": {},
   "outputs": [],
   "source": [
    "inception_model.save('C:/Users/Prathyushaa/Desktop/InceptionV3.h5')"
   ]
  },
  {
   "cell_type": "code",
   "execution_count": 66,
   "id": "980f7e26",
   "metadata": {},
   "outputs": [
    {
     "data": {
      "image/png": "[encoded data removed]",
      "text/plain": [
       "<Figure size 432x288 with 1 Axes>"
      ]
     },
     "metadata": {
      "needs_background": "light"
     },
     "output_type": "display_data"
    }
   ],
   "source": [
    "import cv2\n",
    "IMG_SIZE=224\n",
    "CATEGORIES = [\"Dha-2\",\"Ni-2\",\"Sa\",\"Re-2\",\"Ga-2\",\"Ma-1\",\"Pa\"]\n",
    "def prepare(filepath):\n",
    "    img = cv2.imread(filepath)\n",
    "    new_img=cv2.resize(img,(IMG_SIZE,IMG_SIZE),3)\n",
    "    plt.imshow(new_img)\n",
    "    plt.show()\n",
    "    return new_img.reshape(-1,IMG_SIZE,IMG_SIZE,3)\n",
    "\n",
    "model= tf.keras.models.load_model(\"C:/Users/Prathyushaa/Desktop/InceptionV3.h5\")  \n",
    "prediction=model.predict([prepare('C:/Users/Prathyushaa/Desktop/c4.jpeg')])"
   ]
  },
  {
   "cell_type": "code",
   "execution_count": 67,
   "id": "aedc31b1",
   "metadata": {},
   "outputs": [
    {
     "name": "stdout",
     "output_type": "stream",
     "text": [
      "Sa\n"
     ]
    }
   ],
   "source": [
    "print(CATEGORIES[np.argmax(prediction)])"
   ]
  },
  {
   "cell_type": "code",
   "execution_count": null,
   "id": "546c87ab",
   "metadata": {},
   "outputs": [],
   "source": []
  }
 ],
 "metadata": {
  "kernelspec": {
   "display_name": "Python 3",
   "language": "python",
   "name": "python3"
  },
  "language_info": {
   "codemirror_mode": {
    "name": "ipython",
    "version": 3
   },
   "file_extension": ".py",
   "mimetype": "text/x-python",
   "name": "python",
   "nbconvert_exporter": "python",
   "pygments_lexer": "ipython3",
   "version": "3.8.8"
  }
 },
 "nbformat": 4,
 "nbformat_minor": 5
}
