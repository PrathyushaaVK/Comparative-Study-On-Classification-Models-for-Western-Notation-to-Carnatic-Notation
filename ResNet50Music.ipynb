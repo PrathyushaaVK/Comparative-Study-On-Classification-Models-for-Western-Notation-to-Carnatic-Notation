{
 "cells": [
  {
   "cell_type": "code",
   "execution_count": 1,
   "id": "e2bf1b3a",
   "metadata": {},
   "outputs": [],
   "source": [
    "import matplotlib.pyplot as plt\n",
    "import numpy as np\n",
    "import os\n",
    "import PIL\n",
    "import tensorflow as tf\n",
    "from tensorflow import keras\n",
    "from tensorflow.python.keras.layers import Dense, Flatten\n",
    "from tensorflow.keras.models import Sequential\n",
    "from tensorflow.keras.optimizers import Adam"
   ]
  },
  {
   "cell_type": "code",
   "execution_count": 20,
   "id": "212223d0",
   "metadata": {},
   "outputs": [],
   "source": [
    "from tensorflow.keras.preprocessing import image\n",
    "from keras.preprocessing.image import img_to_array\n",
    "from tensorflow.keras.preprocessing.image import ImageDataGenerator, load_img"
   ]
  },
  {
   "cell_type": "code",
   "execution_count": 21,
   "id": "98c5db9b",
   "metadata": {},
   "outputs": [],
   "source": [
    "data_dir = \"C:/Users/Prathyushaa/Desktop/Project/data/data\""
   ]
  },
  {
   "cell_type": "code",
   "execution_count": 22,
   "id": "2ea35108",
   "metadata": {},
   "outputs": [
    {
     "name": "stdout",
     "output_type": "stream",
     "text": [
      "C:/Users/Prathyushaa/Desktop/Project/data/data\n"
     ]
    }
   ],
   "source": [
    "print(data_dir)"
   ]
  },
  {
   "cell_type": "code",
   "execution_count": null,
   "id": "09dd7595",
   "metadata": {},
   "outputs": [],
   "source": []
  },
  {
   "cell_type": "code",
   "execution_count": 34,
   "id": "fb20ce84",
   "metadata": {},
   "outputs": [
    {
     "name": "stdout",
     "output_type": "stream",
     "text": [
      "Found 759 files belonging to 7 classes.\n",
      "Using 608 files for training.\n"
     ]
    }
   ],
   "source": [
    "img_height, img_width = 224,224\n",
    "batch_size = 8\n",
    "train_ds = tf.keras.preprocessing.image_dataset_from_directory(\n",
    "    data_dir,\n",
    "    validation_split=0.2,\n",
    "    subset=\"training\",\n",
    "    seed=11,\n",
    "    label_mode='categorical',\n",
    "    image_size=(img_height,img_width),\n",
    "    batch_size=batch_size)"
   ]
  },
  {
   "cell_type": "code",
   "execution_count": 35,
   "id": "824cacf2",
   "metadata": {},
   "outputs": [
    {
     "name": "stdout",
     "output_type": "stream",
     "text": [
      "Found 759 files belonging to 7 classes.\n",
      "Using 151 files for validation.\n"
     ]
    }
   ],
   "source": [
    "val_ds = tf.keras.preprocessing.image_dataset_from_directory(\n",
    "    data_dir,\n",
    "    validation_split=0.2,\n",
    "    subset=\"validation\",\n",
    "    seed=11,\n",
    "    label_mode=\"categorical\",\n",
    "    image_size=(img_height,img_width),\n",
    "    batch_size= batch_size)"
   ]
  },
  {
   "cell_type": "code",
   "execution_count": 36,
   "id": "7c9ffc10",
   "metadata": {},
   "outputs": [
    {
     "name": "stdout",
     "output_type": "stream",
     "text": [
      "['A', 'B', 'C', 'D', 'E', 'F', 'G']\n"
     ]
    }
   ],
   "source": [
    "class_names= train_ds.class_names\n",
    "print(class_names)"
   ]
  },
  {
   "cell_type": "code",
   "execution_count": 37,
   "id": "11e4d10c",
   "metadata": {},
   "outputs": [],
   "source": [
    "#training model"
   ]
  },
  {
   "cell_type": "code",
   "execution_count": 41,
   "id": "537b8aba",
   "metadata": {},
   "outputs": [],
   "source": [
    "resnet_model= Sequential()\n",
    "\n",
    "pretrained_model = tf.keras.applications.ResNet50(include_top=False,\n",
    "                                                    input_shape=(224,224,3),\n",
    "                                                 pooling='max',classes=7,\n",
    "                                                 weights='imagenet')\n",
    "for layer in pretrained_model.layers:\n",
    "    layer.trainable=False\n",
    "    \n",
    "resnet_model.add(pretrained_model)\n",
    "resnet_model.add(Flatten())\n",
    "resnet_model.add(Dense(1024,activation='relu'))\n",
    "resnet_model.add(Dense(7,activation='softmax'))"
   ]
  },
  {
   "cell_type": "raw",
   "id": "ef4464b4",
   "metadata": {},
   "source": []
  },
  {
   "cell_type": "code",
   "execution_count": 42,
   "id": "afa1c06a",
   "metadata": {},
   "outputs": [
    {
     "name": "stdout",
     "output_type": "stream",
     "text": [
      "Model: \"sequential_3\"\n",
      "_________________________________________________________________\n",
      "Layer (type)                 Output Shape              Param #   \n",
      "=================================================================\n",
      "resnet50 (Functional)        (None, 2048)              23587712  \n",
      "_________________________________________________________________\n",
      "flatten_2 (Flatten)          (None, 2048)              0         \n",
      "_________________________________________________________________\n",
      "dense_4 (Dense)              (None, 1024)              2098176   \n",
      "_________________________________________________________________\n",
      "dense_5 (Dense)              (None, 7)                 7175      \n",
      "=================================================================\n",
      "Total params: 25,693,063\n",
      "Trainable params: 2,105,351\n",
      "Non-trainable params: 23,587,712\n",
      "_________________________________________________________________\n"
     ]
    }
   ],
   "source": [
    "resnet_model.summary()"
   ]
  },
  {
   "cell_type": "code",
   "execution_count": 43,
   "id": "826c9e93",
   "metadata": {},
   "outputs": [],
   "source": [
    "resnet_model.compile(optimizer=Adam(lr=0.001), loss='categorical_crossentropy', metrics=['accuracy'])"
   ]
  },
  {
   "cell_type": "code",
   "execution_count": 44,
   "id": "fa827fc2",
   "metadata": {},
   "outputs": [
    {
     "name": "stdout",
     "output_type": "stream",
     "text": [
      "Epoch 1/10\n",
      "76/76 [==============================] - 64s 842ms/step - loss: 7.2580 - accuracy: 0.2911 - val_loss: 1.4685 - val_accuracy: 0.4967\n",
      "Epoch 2/10\n",
      "76/76 [==============================] - 65s 855ms/step - loss: 0.6999 - accuracy: 0.7664 - val_loss: 0.8168 - val_accuracy: 0.7616\n",
      "Epoch 3/10\n",
      "76/76 [==============================] - 67s 876ms/step - loss: 0.6424 - accuracy: 0.7862 - val_loss: 0.7889 - val_accuracy: 0.7020\n",
      "Epoch 4/10\n",
      "76/76 [==============================] - 69s 904ms/step - loss: 0.3268 - accuracy: 0.9030 - val_loss: 0.4956 - val_accuracy: 0.8344\n",
      "Epoch 5/10\n",
      "76/76 [==============================] - 66s 874ms/step - loss: 0.1745 - accuracy: 0.9457 - val_loss: 0.3204 - val_accuracy: 0.9205\n",
      "Epoch 6/10\n",
      "76/76 [==============================] - 65s 853ms/step - loss: 0.0661 - accuracy: 0.9868 - val_loss: 0.1967 - val_accuracy: 0.9404\n",
      "Epoch 7/10\n",
      "76/76 [==============================] - 67s 875ms/step - loss: 0.0228 - accuracy: 0.9984 - val_loss: 0.1723 - val_accuracy: 0.9470\n",
      "Epoch 8/10\n",
      "76/76 [==============================] - 66s 869ms/step - loss: 0.0343 - accuracy: 0.9934 - val_loss: 0.1962 - val_accuracy: 0.9338\n",
      "Epoch 9/10\n",
      "76/76 [==============================] - 65s 853ms/step - loss: 0.0186 - accuracy: 0.9967 - val_loss: 0.2428 - val_accuracy: 0.9205\n",
      "Epoch 10/10\n",
      "76/76 [==============================] - 74s 974ms/step - loss: 0.0210 - accuracy: 0.9967 - val_loss: 0.1186 - val_accuracy: 0.9603\n"
     ]
    }
   ],
   "source": [
    "epochs=10\n",
    "history = resnet_model.fit(\n",
    "    train_ds,\n",
    "    validation_data = val_ds,\n",
    "    epochs=epochs)"
   ]
  },
  {
   "cell_type": "code",
   "execution_count": 45,
   "id": "d9486c14",
   "metadata": {},
   "outputs": [
    {
     "data": {
      "image/png": "[encoded data removed]",
      "text/plain": [
       "<Figure size 432x288 with 1 Axes>"
      ]
     },
     "metadata": {
      "needs_background": "light"
     },
     "output_type": "display_data"
    }
   ],
   "source": [
    "plt.plot(history.history['accuracy'])\n",
    "plt.plot(history.history['val_accuracy'])\n",
    "plt.title(\"Model Accuracy\")\n",
    "plt.xlabel('Epochs')\n",
    "plt.ylabel('Accuracy')\n",
    "plt.legend([\"Training\",\"Validation\"])\n",
    "plt.show()"
   ]
  },
  {
   "cell_type": "code",
   "execution_count": 46,
   "id": "bf80b94f",
   "metadata": {},
   "outputs": [
    {
     "data": {
      "text/plain": [
       "<matplotlib.legend.Legend at 0x18d0f593880>"
      ]
     },
     "execution_count": 46,
     "metadata": {},
     "output_type": "execute_result"
    },
    {
     "data": {
      "image/png": "[encoded data removed]",
      "text/plain": [
       "<Figure size 432x288 with 1 Axes>"
      ]
     },
     "metadata": {
      "needs_background": "light"
     },
     "output_type": "display_data"
    }
   ],
   "source": [
    "plt.plot(history.history['loss'])\n",
    "plt.plot(history.history['val_loss'])\n",
    "plt.title(\"Model Loss\")\n",
    "plt.xlabel('Epochs')\n",
    "plt.ylabel('Accuracy')\n",
    "plt.legend([\"Training\", \"Validation\"])"
   ]
  },
  {
   "cell_type": "code",
   "execution_count": 56,
   "id": "ed4d4c6c",
   "metadata": {},
   "outputs": [],
   "source": [
    "resnet_model.save('C:/Users/Prathyushaa/Desktop/ResNet50.h5')"
   ]
  },
  {
   "cell_type": "code",
   "execution_count": 49,
   "id": "a2a64dae",
   "metadata": {},
   "outputs": [
    {
     "data": {
      "image/png": "[encoded data removed]",
      "text/plain": [
       "<Figure size 432x288 with 1 Axes>"
      ]
     },
     "metadata": {
      "needs_background": "light"
     },
     "output_type": "display_data"
    }
   ],
   "source": [
    "import cv2\n",
    "IMG_SIZE=224\n",
    "CATEGORIES = [\"Dha-2\",\"Ni-2\",\"Sa\",\"Re-2\",\"Ga-2\",\"Ma-1\",\"Pa\"]\n",
    "def prepare(filepath):\n",
    "    img = cv2.imread(filepath)\n",
    "    new_img=cv2.resize(img,(IMG_SIZE,IMG_SIZE),3)\n",
    "    plt.imshow(new_img)\n",
    "    plt.show()\n",
    "    return new_img.reshape(-1,IMG_SIZE,IMG_SIZE,3)\n",
    "\n",
    "model= tf.keras.models.load_model(\"C:/Users/Prathyushaa/Desktop/ResNet50.h5\")  \n",
    "prediction=model.predict([prepare('C:/Users/Prathyushaa/Desktop/c4.jpeg')])"
   ]
  },
  {
   "cell_type": "code",
   "execution_count": 50,
   "id": "014dd373",
   "metadata": {},
   "outputs": [
    {
     "name": "stdout",
     "output_type": "stream",
     "text": [
      "Sa\n"
     ]
    }
   ],
   "source": [
    "print(CATEGORIES[np.argmax(prediction)])"
   ]
  },
  {
   "cell_type": "code",
   "execution_count": null,
   "id": "e264f735",
   "metadata": {},
   "outputs": [],
   "source": []
  }
 ],
 "metadata": {
  "kernelspec": {
   "display_name": "Python 3",
   "language": "python",
   "name": "python3"
  },
  "language_info": {
   "codemirror_mode": {
    "name": "ipython",
    "version": 3
   },
   "file_extension": ".py",
   "mimetype": "text/x-python",
   "name": "python",
   "nbconvert_exporter": "python",
   "pygments_lexer": "ipython3",
   "version": "3.8.8"
  }
 },
 "nbformat": 4,
 "nbformat_minor": 5
}
