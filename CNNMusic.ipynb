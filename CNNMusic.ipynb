{
 "cells": [
  {
   "cell_type": "code",
   "execution_count": 20,
   "id": "57000713",
   "metadata": {},
   "outputs": [
    {
     "data": {
      "image/png": "[encoded data removed]",
      "text/plain": [
       "<Figure size 432x288 with 1 Axes>"
      ]
     },
     "metadata": {
      "needs_background": "light"
     },
     "output_type": "display_data"
    }
   ],
   "source": [
    "import numpy as np\n",
    "import matplotlib.pyplot as plt\n",
    "import os\n",
    "import cv2\n",
    "import random\n",
    "import pickle\n",
    "import tensorflow as tf\n",
    "from tensorflow.keras.models import Sequential\n",
    "from tensorflow.keras.layers import Conv2D,Dense,Flatten,Dropout,Activation,MaxPooling2D\n",
    "\n",
    "DATADIR =\"C:/Users/Prathyushaa/Desktop/Project/data/datac\"\n",
    "CATEGORIES = [\"A\",\"B\",\"C\",\"D\",\"E\",\"F\",\"G\"]\n",
    "for category in CATEGORIES:\n",
    "    path = os.path.join(DATADIR, category)\n",
    "    for img in os.listdir(path):\n",
    "        img_array = cv2.imread(os.path.join(path,img),cv2.IMREAD_GRAYSCALE)\n",
    "        plt.imshow(img_array,cmap=\"gray\")\n",
    "        plt.show()\n",
    "        break\n",
    "    break         "
   ]
  },
  {
   "cell_type": "code",
   "execution_count": 21,
   "id": "469e5ccb",
   "metadata": {},
   "outputs": [
    {
     "name": "stdout",
     "output_type": "stream",
     "text": [
      "(152, 72)\n"
     ]
    }
   ],
   "source": [
    "print(img_array.shape)"
   ]
  },
  {
   "cell_type": "code",
   "execution_count": 22,
   "id": "588d1f09",
   "metadata": {},
   "outputs": [
    {
     "data": {
      "text/plain": [
       "<function matplotlib.pyplot.show(close=None, block=None)>"
      ]
     },
     "execution_count": 22,
     "metadata": {},
     "output_type": "execute_result"
    },
    {
     "data": {
      "image/png": "[encoded data removed]",
      "text/plain": [
       "<Figure size 432x288 with 1 Axes>"
      ]
     },
     "metadata": {
      "needs_background": "light"
     },
     "output_type": "display_data"
    }
   ],
   "source": [
    "IMG_SIZE = 50\n",
    "new_array = cv2.resize(img_array,(IMG_SIZE,IMG_SIZE))\n",
    "plt.imshow(new_array,cmap= 'gray')\n",
    "plt.show"
   ]
  },
  {
   "cell_type": "code",
   "execution_count": 23,
   "id": "f3d7a475",
   "metadata": {},
   "outputs": [],
   "source": [
    "training_data= []\n",
    "def create_training_data():\n",
    "    for category in CATEGORIES:\n",
    "        path= os.path.join(DATADIR, category)\n",
    "        class_num=CATEGORIES.index(category)\n",
    "        for img in os.listdir(path):\n",
    "            try:\n",
    "                img_array = cv2.imread(os.path.join(path,img), cv2.IMREAD_GRAYSCALE)\n",
    "                new_array = cv2.resize(img_array,(IMG_SIZE,IMG_SIZE))\n",
    "                training_data.append([new_array,class_num])\n",
    "            except Exception as e:\n",
    "                pass\n",
    "            \n",
    "            \n",
    "create_training_data()\n",
    "            \n",
    "            "
   ]
  },
  {
   "cell_type": "code",
   "execution_count": 24,
   "id": "f4808531",
   "metadata": {},
   "outputs": [
    {
     "name": "stdout",
     "output_type": "stream",
     "text": [
      "759\n"
     ]
    }
   ],
   "source": [
    "print(len(training_data))"
   ]
  },
  {
   "cell_type": "code",
   "execution_count": 25,
   "id": "6f256a21",
   "metadata": {},
   "outputs": [],
   "source": [
    "random.shuffle(training_data)\n",
    "\n",
    "X = [] #features\n",
    "y = [] #labels\n",
    "\n",
    "for features, label in training_data:\n",
    "\tX.append(features)\n",
    "\ty.append(label)\n",
    "\n",
    "X = np.array(X).reshape(-1, IMG_SIZE, IMG_SIZE, 1)\n",
    "\n",
    "# Creating the files containing all the information about your model\n",
    "pickle_out = open(\"X.pickle\", \"wb\")\n",
    "pickle.dump(X, pickle_out)\n",
    "pickle_out.close()\n",
    "\n",
    "pickle_out = open(\"y.pickle\", \"wb\")\n",
    "pickle.dump(y, pickle_out)\n",
    "pickle_out.close()\n",
    "\n",
    "pickle_in = open(\"X.pickle\", \"rb\")\n",
    "X = pickle.load(pickle_in)"
   ]
  },
  {
   "cell_type": "code",
   "execution_count": 26,
   "id": "29fd1cd3",
   "metadata": {},
   "outputs": [],
   "source": [
    "X=pickle.load(open(\"X.pickle\",\"rb\"))\n",
    "Y=pickle.load(open(\"Y.pickle\",\"rb\"))"
   ]
  },
  {
   "cell_type": "code",
   "execution_count": 27,
   "id": "13412e3c",
   "metadata": {},
   "outputs": [],
   "source": [
    "X=np.array(X/255.0)\n",
    "Y=np.array(Y)"
   ]
  },
  {
   "cell_type": "code",
   "execution_count": 28,
   "id": "86400145",
   "metadata": {},
   "outputs": [],
   "source": [
    "model= Sequential()\n",
    "\n",
    "model.add(Conv2D(64,(3,3),input_shape= X.shape[1:]))\n",
    "model.add(Activation(\"relu\"))\n",
    "model.add(MaxPooling2D(pool_size=(2,2)))\n",
    "\n",
    "model.add(Conv2D(64,(3,3)))\n",
    "model.add(Activation(\"relu\"))\n",
    "model.add(MaxPooling2D(pool_size=(2,2)))\n",
    "\n",
    "model.add(Flatten())\n",
    "model.add(Dense(64))\n",
    "model.add(Activation(\"relu\"))\n",
    "\n",
    "model.add(Dense(7))\n",
    "model.add(Activation(\"softmax\"))"
   ]
  },
  {
   "cell_type": "code",
   "execution_count": 29,
   "id": "dbb53ee7",
   "metadata": {},
   "outputs": [],
   "source": [
    "model.compile(optimizer=\"adam\",\n",
    "             loss=\"sparse_categorical_crossentropy\",\n",
    "             metrics=['accuracy'])"
   ]
  },
  {
   "cell_type": "code",
   "execution_count": 30,
   "id": "a652d73a",
   "metadata": {},
   "outputs": [
    {
     "name": "stdout",
     "output_type": "stream",
     "text": [
      "Epoch 1/10\n",
      "19/19 [==============================] - 1s 72ms/step - loss: 1.9315 - accuracy: 0.2241 - val_loss: 1.8296 - val_accuracy: 0.3092\n",
      "Epoch 2/10\n",
      "19/19 [==============================] - 1s 66ms/step - loss: 1.5045 - accuracy: 0.4745 - val_loss: 1.3087 - val_accuracy: 0.5855\n",
      "Epoch 3/10\n",
      "19/19 [==============================] - 1s 65ms/step - loss: 0.9601 - accuracy: 0.6722 - val_loss: 0.9877 - val_accuracy: 0.6382\n",
      "Epoch 4/10\n",
      "19/19 [==============================] - 1s 65ms/step - loss: 0.5408 - accuracy: 0.8171 - val_loss: 0.6524 - val_accuracy: 0.7105\n",
      "Epoch 5/10\n",
      "19/19 [==============================] - 1s 65ms/step - loss: 0.3525 - accuracy: 0.8814 - val_loss: 0.4866 - val_accuracy: 0.8421\n",
      "Epoch 6/10\n",
      "19/19 [==============================] - 1s 67ms/step - loss: 0.2030 - accuracy: 0.9539 - val_loss: 0.3358 - val_accuracy: 0.8882\n",
      "Epoch 7/10\n",
      "19/19 [==============================] - 1s 68ms/step - loss: 0.1294 - accuracy: 0.9753 - val_loss: 0.3052 - val_accuracy: 0.8816\n",
      "Epoch 8/10\n",
      "19/19 [==============================] - 1s 67ms/step - loss: 0.0895 - accuracy: 0.9753 - val_loss: 0.2293 - val_accuracy: 0.9013\n",
      "Epoch 9/10\n",
      "19/19 [==============================] - 1s 68ms/step - loss: 0.0590 - accuracy: 0.9934 - val_loss: 0.2606 - val_accuracy: 0.9079\n",
      "Epoch 10/10\n",
      "19/19 [==============================] - 1s 71ms/step - loss: 0.0375 - accuracy: 0.9967 - val_loss: 0.1865 - val_accuracy: 0.9539\n"
     ]
    }
   ],
   "source": [
    "history=model.fit(X,Y,epochs=10,validation_split=0.2)"
   ]
  },
  {
   "cell_type": "code",
   "execution_count": 31,
   "id": "b193e2de",
   "metadata": {},
   "outputs": [],
   "source": [
    "model.save('C:/Users/Prathyushaa/Desktop/CNN.h5')"
   ]
  },
  {
   "cell_type": "code",
   "execution_count": 32,
   "id": "eceb169d",
   "metadata": {},
   "outputs": [
    {
     "data": {
      "image/png": "[encoded data removed]",
      "text/plain": [
       "<Figure size 432x288 with 1 Axes>"
      ]
     },
     "metadata": {
      "needs_background": "light"
     },
     "output_type": "display_data"
    }
   ],
   "source": [
    "IMG_SIZE=50\n",
    "CATEGORIES = [\"Dha-2\",\"Ni-2\",\"Sa\",\"Re-2\",\"Ga-2\",\"Ma-1\",\"Pa\"]\n",
    "def prepare(filepath):\n",
    "    img = cv2.imread(filepath, cv2.IMREAD_GRAYSCALE)\n",
    "    new_img=cv2.resize(img,(IMG_SIZE,IMG_SIZE))\n",
    "    plt.imshow(new_img)\n",
    "    plt.show()\n",
    "    return new_img.reshape(-1,IMG_SIZE,IMG_SIZE,1)\n",
    "\n",
    "model= tf.keras.models.load_model(\"C:/Users/Prathyushaa/Desktop/CNN.h5\")  \n",
    "prediction=model.predict([prepare('C:/Users/Prathyushaa/Desktop/c4.jpeg')])"
   ]
  },
  {
   "cell_type": "code",
   "execution_count": 33,
   "id": "f5b2b9a4",
   "metadata": {},
   "outputs": [
    {
     "name": "stdout",
     "output_type": "stream",
     "text": [
      "Sa\n"
     ]
    }
   ],
   "source": [
    "print(CATEGORIES[np.argmax(prediction)])"
   ]
  },
  {
   "cell_type": "code",
   "execution_count": 34,
   "id": "01061555",
   "metadata": {},
   "outputs": [
    {
     "data": {
      "image/png": "[encoded data removed]",
      "text/plain": [
       "<Figure size 432x288 with 1 Axes>"
      ]
     },
     "metadata": {
      "needs_background": "light"
     },
     "output_type": "display_data"
    }
   ],
   "source": [
    "#visualization\n",
    "\n",
    "import matplotlib.pyplot as plt\n",
    "\n",
    "plt.plot(history.history['accuracy'])\n",
    "plt.plot(history.history['val_accuracy'])\n",
    "plt.title(\"Model Accuracy\")\n",
    "plt.xlabel('Epochs')\n",
    "plt.ylabel('Accuracy')\n",
    "plt.legend([\"Training\",\"Validation\"])\n",
    "plt.show()"
   ]
  },
  {
   "cell_type": "code",
   "execution_count": 35,
   "id": "9db53307",
   "metadata": {},
   "outputs": [
    {
     "data": {
      "text/plain": [
       "<matplotlib.legend.Legend at 0x1e4817da3d0>"
      ]
     },
     "execution_count": 35,
     "metadata": {},
     "output_type": "execute_result"
    },
    {
     "data": {
      "image/png": "[encoded data removed]",
      "text/plain": [
       "<Figure size 432x288 with 1 Axes>"
      ]
     },
     "metadata": {
      "needs_background": "light"
     },
     "output_type": "display_data"
    }
   ],
   "source": [
    "plt.plot(history.history['loss'])\n",
    "plt.plot(history.history['val_loss'])\n",
    "plt.title(\"Model Loss\")\n",
    "plt.xlabel('Epochs')\n",
    "plt.ylabel('Accuracy')\n",
    "plt.legend([\"Training\", \"Validation\"])"
   ]
  },
  {
   "cell_type": "code",
   "execution_count": null,
   "id": "1173f488",
   "metadata": {},
   "outputs": [],
   "source": []
  }
 ],
 "metadata": {
  "kernelspec": {
   "display_name": "Python 3",
   "language": "python",
   "name": "python3"
  },
  "language_info": {
   "codemirror_mode": {
    "name": "ipython",
    "version": 3
   },
   "file_extension": ".py",
   "mimetype": "text/x-python",
   "name": "python",
   "nbconvert_exporter": "python",
   "pygments_lexer": "ipython3",
   "version": "3.8.8"
  }
 },
 "nbformat": 4,
 "nbformat_minor": 5
}
