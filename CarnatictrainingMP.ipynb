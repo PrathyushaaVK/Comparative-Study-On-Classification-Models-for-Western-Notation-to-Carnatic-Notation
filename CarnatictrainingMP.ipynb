{
 "cells": [
  {
   "cell_type": "code",
   "execution_count": 4,
   "metadata": {},
   "outputs": [],
   "source": [
    "import tensorflow as tf\n",
    "from tensorflow.keras.models import Sequential\n",
    "from tensorflow.keras.layers import Conv2D,Dense,Flatten,Dropout,Activation,MaxPooling2D\n",
    "import pickle\n",
    "import numpy as np\n",
    "import cv2\n",
    "import os\n",
    "import matplotlib.pyplot as plt"
   ]
  },
  {
   "cell_type": "code",
   "execution_count": 5,
   "metadata": {},
   "outputs": [],
   "source": [
    "\n",
    "X=pickle.load(open(\"X.pickle\",\"rb\"))\n",
    "Y=pickle.load(open(\"Y.pickle\",\"rb\"))"
   ]
  },
  {
   "cell_type": "code",
   "execution_count": 6,
   "metadata": {},
   "outputs": [],
   "source": [
    "X=np.array(X/255.0)\n",
    "Y=np.array(Y)"
   ]
  },
  {
   "cell_type": "code",
   "execution_count": 7,
   "metadata": {},
   "outputs": [],
   "source": [
    "model= Sequential()\n",
    "\n",
    "model.add(Conv2D(64,(3,3),input_shape= X.shape[1:]))\n",
    "model.add(Activation(\"relu\"))\n",
    "model.add(MaxPooling2D(pool_size=(2,2)))\n",
    "\n",
    "model.add(Conv2D(64,(3,3)))\n",
    "model.add(Activation(\"relu\"))\n",
    "model.add(MaxPooling2D(pool_size=(2,2)))\n",
    "\n",
    "model.add(Flatten())\n",
    "model.add(Dense(64))\n",
    "model.add(Activation(\"relu\"))\n",
    "\n",
    "model.add(Dense(7))\n",
    "model.add(Activation(\"softmax\"))"
   ]
  },
  {
   "cell_type": "code",
   "execution_count": null,
   "metadata": {},
   "outputs": [],
   "source": []
  },
  {
   "cell_type": "code",
   "execution_count": 8,
   "metadata": {},
   "outputs": [],
   "source": [
    "model.compile(optimizer=\"adam\",\n",
    "             loss=\"sparse_categorical_crossentropy\",\n",
    "             metrics=['accuracy'])"
   ]
  },
  {
   "cell_type": "code",
   "execution_count": 10,
   "metadata": {},
   "outputs": [
    {
     "name": "stdout",
     "output_type": "stream",
     "text": [
      "Epoch 1/10\n",
      "22/22 [==============================] - 1s 64ms/step - loss: 0.0251 - accuracy: 1.0000 - val_loss: 0.1734 - val_accuracy: 0.9211\n",
      "Epoch 2/10\n",
      "22/22 [==============================] - 1s 63ms/step - loss: 0.0174 - accuracy: 0.9985 - val_loss: 0.2048 - val_accuracy: 0.9211\n",
      "Epoch 3/10\n",
      "22/22 [==============================] - 1s 62ms/step - loss: 0.0132 - accuracy: 1.0000 - val_loss: 0.1950 - val_accuracy: 0.9342\n",
      "Epoch 4/10\n",
      "22/22 [==============================] - 1s 63ms/step - loss: 0.0098 - accuracy: 1.0000 - val_loss: 0.2155 - val_accuracy: 0.9342\n",
      "Epoch 5/10\n",
      "22/22 [==============================] - 1s 62ms/step - loss: 0.0066 - accuracy: 1.0000 - val_loss: 0.2307 - val_accuracy: 0.9342\n",
      "Epoch 6/10\n",
      "22/22 [==============================] - 1s 65ms/step - loss: 0.0054 - accuracy: 1.0000 - val_loss: 0.2137 - val_accuracy: 0.9342\n",
      "Epoch 7/10\n",
      "22/22 [==============================] - 1s 65ms/step - loss: 0.0039 - accuracy: 1.0000 - val_loss: 0.2009 - val_accuracy: 0.9342\n",
      "Epoch 8/10\n",
      "22/22 [==============================] - 2s 95ms/step - loss: 0.0035 - accuracy: 1.0000 - val_loss: 0.2224 - val_accuracy: 0.9211\n",
      "Epoch 9/10\n",
      "22/22 [==============================] - 2s 98ms/step - loss: 0.0030 - accuracy: 1.0000 - val_loss: 0.2194 - val_accuracy: 0.9342\n",
      "Epoch 10/10\n",
      "22/22 [==============================] - 2s 97ms/step - loss: 0.0026 - accuracy: 1.0000 - val_loss: 0.2187 - val_accuracy: 0.9342\n"
     ]
    },
    {
     "data": {
      "text/plain": [
       "<tensorflow.python.keras.callbacks.History at 0x236f18d9e50>"
      ]
     },
     "execution_count": 10,
     "metadata": {},
     "output_type": "execute_result"
    }
   ],
   "source": [
    "model.fit(X,Y,epochs=10,validation_split=0.1)"
   ]
  },
  {
   "cell_type": "code",
   "execution_count": 12,
   "metadata": {},
   "outputs": [],
   "source": [
    "model.save('C:/Users/Prathyushaa/Desktop/CNN.h5')"
   ]
  },
  {
   "cell_type": "code",
   "execution_count": null,
   "metadata": {},
   "outputs": [],
   "source": []
  },
  {
   "cell_type": "code",
   "execution_count": 14,
   "metadata": {},
   "outputs": [
    {
     "data": {
      "image/png": "[encoded data removed]",
      "text/plain": [
       "<Figure size 432x288 with 1 Axes>"
      ]
     },
     "metadata": {
      "needs_background": "light"
     },
     "output_type": "display_data"
    }
   ],
   "source": [
    "IMG_SIZE=50\n",
    "CATEGORIES = [\"Dha-2\",\"Ni-2\",\"Sa\",\"Re-2\",\"Ga-2\",\"Ma-1\",\"Pa\"]\n",
    "def prepare(filepath):\n",
    "    img = cv2.imread(filepath, cv2.IMREAD_GRAYSCALE)\n",
    "    new_img=cv2.resize(img,(IMG_SIZE,IMG_SIZE))\n",
    "    plt.imshow(new_img)\n",
    "    plt.show()\n",
    "    return new_img.reshape(-1,IMG_SIZE,IMG_SIZE,1)\n",
    "\n",
    "model= tf.keras.models.load_model(\"C:/Users/Prathyushaa/Desktop/CNN.h5\")  \n",
    "prediction=model.predict([prepare('C:/Users/Prathyushaa/Desktop/c4.jpeg')])"
   ]
  },
  {
   "cell_type": "code",
   "execution_count": 15,
   "metadata": {},
   "outputs": [
    {
     "name": "stdout",
     "output_type": "stream",
     "text": [
      "Sa\n"
     ]
    }
   ],
   "source": [
    "print(CATEGORIES[np.argmax(prediction)])"
   ]
  },
  {
   "cell_type": "code",
   "execution_count": null,
   "metadata": {},
   "outputs": [],
   "source": []
  }
 ],
 "metadata": {
  "kernelspec": {
   "display_name": "Python 3",
   "language": "python",
   "name": "python3"
  },
  "language_info": {
   "codemirror_mode": {
    "name": "ipython",
    "version": 3
   },
   "file_extension": ".py",
   "mimetype": "text/x-python",
   "name": "python",
   "nbconvert_exporter": "python",
   "pygments_lexer": "ipython3",
   "version": "3.8.8"
  }
 },
 "nbformat": 4,
 "nbformat_minor": 2
}
